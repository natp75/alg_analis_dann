{
 "cells": [
  {
   "cell_type": "code",
   "execution_count": null,
   "id": "166a3461",
   "metadata": {},
   "outputs": [],
   "source": [
    "# Модифицировать реализацию KNN  так, \n",
    "#чтобы больший вес получали наиболее близко расположенные объекты(использовать вес 1/d или 1/max(const, d)).\n",
    "import numpy as np\n",
    "from sklearn import model_selection\n",
    "from sklearn.datasets import load_iris\n",
    "import matplotlib.pyplot as plt\n",
    "import matplotlib\n",
    "%matplotlib inline\n",
    "from matplotlib.colors import ListedColormap\n",
    "\n",
    "X, y = load_iris(return_X_y=True)\n",
    "\n",
    "# Для наглядности возьмем только первые два признака (всего в датасете их 4)\n",
    "X = X[:, :2]"
   ]
  },
  {
   "cell_type": "code",
   "execution_count": null,
   "id": "d7fb3027",
   "metadata": {},
   "outputs": [],
   "source": [
    "X_train, X_test, y_train, y_test = model_selection.train_test_split(X, y, test_size=0.2, random_state=1)\n",
    "cmap = ListedColormap(['red', 'green', 'blue'])\n",
    "plt.figure(figsize=(7, 7))\n",
    "plt.scatter(X[:, 0], X[:, 1], c=y, cmap=cmap)"
   ]
  },
  {
   "cell_type": "code",
   "execution_count": null,
   "id": "35439d60",
   "metadata": {},
   "outputs": [],
   "source": [
    "def e_metrics(x1, x2):\n",
    "    \n",
    "    distance = 0\n",
    "    for i in range(len(x1)):\n",
    "        distance += np.square(x1[i] - x2[i])\n",
    "    \n",
    "    return np.sqrt(distance)"
   ]
  },
  {
   "cell_type": "code",
   "execution_count": null,
   "id": "da3c1df9",
   "metadata": {},
   "outputs": [],
   "source": [
    "def accuracy(pred, y):\n",
    "    return (sum(pred == y) / len(y))"
   ]
  },
  {
   "cell_type": "code",
   "execution_count": null,
   "id": "c5f8d43d",
   "metadata": {},
   "outputs": [],
   "source": [
    "def knn_weighted(x_train, y_train, x_test, k):\n",
    "    \n",
    "    answers = []\n",
    "    for x in x_test:\n",
    "        test_distances = []\n",
    "            \n",
    "        for i in range(len(x_train)):\n",
    "            \n",
    "            # расчет расстояния от классифицируемого объекта до\n",
    "            # объекта обучающей выборки\n",
    "            distance = e_metrics(x, x_train[i])\n",
    "            \n",
    "            # Записываем в список значение расстояния и ответа на объекте обучающей выборки\n",
    "            test_distances.append((distance, y_train[i]))\n",
    "        \n",
    "        # создаем словарь со всеми возможными классами\n",
    "        classes = {class_item: 0 for class_item in set(y_train)}\n",
    "        \n",
    "        # Сортируем список и среди первых k элементов подсчитаем частоту появления разных классов\n",
    "        for index, d in enumerate(sorted(test_distances)[0:k], start=1):\n",
    "            classes[d[1]] += 1/index\n",
    "            \n",
    "        # Записываем в список ответов наиболее часто встречающийся класс\n",
    "        answers.append(sorted(classes, key=classes.get)[-1])\n",
    "    return answers"
   ]
  },
  {
   "cell_type": "code",
   "execution_count": null,
   "id": "4b6d095e",
   "metadata": {},
   "outputs": [],
   "source": [
    "def knn(x_train, y_train, x_test, k):\n",
    "    \n",
    "    answers = []\n",
    "    for x in x_test:\n",
    "        test_distances = []\n",
    "            \n",
    "        for i in range(len(x_train)):\n",
    "            \n",
    "            # расчет расстояния от классифицируемого объекта до\n",
    "            # объекта обучающей выборки\n",
    "            distance = e_metrics(x, x_train[i])\n",
    "            \n",
    "            # Записываем в список значение расстояния и ответа на объекте обучающей выборки\n",
    "            test_distances.append((distance, y_train[i]))\n",
    "        \n",
    "        # создаем словарь со всеми возможными классами\n",
    "        classes = {class_item: 0 for class_item in set(y_train)}\n",
    "        \n",
    "        # Сортируем список и среди первых k элементов подсчитаем частоту появления разных классов\n",
    "        for d in sorted(test_distances)[0:k]:\n",
    "            classes[d[1]] += 1\n",
    "            \n",
    "        # Записываем в список ответов наиболее часто встречающийся класс\n",
    "        answers.append(sorted(classes, key=classes.get)[-1])\n",
    "    return answers"
   ]
  },
  {
   "cell_type": "code",
   "execution_count": null,
   "id": "91a03689",
   "metadata": {},
   "outputs": [],
   "source": [
    "def get_graph(X_train, y_train, k, weighted=False):\n",
    "    cmap_light = ListedColormap(['#FFAAAA', '#AAFFAA','#00AAFF'])\n",
    "\n",
    "    h = .02\n",
    "\n",
    "    # Расчет пределов графика\n",
    "    x_min, x_max = X_train[:, 0].min() - 1, X_train[:, 0].max() + 1\n",
    "    y_min, y_max = X_train[:, 1].min() - 1, X_train[:, 1].max() + 1\n",
    "    xx, yy = np.meshgrid(np.arange(x_min, x_max, h), np.arange(y_min, y_max, h))\n",
    "\n",
    "    # Получим предсказания для всех точек\n",
    "    if weighted:\n",
    "        Z = knn_weighted(X_train, y_train, np.c_[xx.ravel(), yy.ravel()], k)\n",
    "    else:\n",
    "        Z = knn(X_train, y_train, np.c_[xx.ravel(), yy.ravel()], k)\n",
    "\n",
    "    # Построим график\n",
    "    Z = np.array(Z).reshape(xx.shape)\n",
    "    plt.figure(figsize=(7,7))\n",
    "    plt.pcolormesh(xx, yy, Z, cmap=cmap_light)\n",
    "\n",
    "    # Добавим на график обучающую выборку\n",
    "    plt.scatter(X_train[:, 0], X_train[:, 1], c=y_train, cmap=cmap)\n",
    "    plt.xlim(xx.min(), xx.max())\n",
    "    plt.ylim(yy.min(), yy.max())\n",
    "    plt.title(f\"Трехклассовая kNN классификация при k = {k}\")\n",
    "    plt.show()"
   ]
  },
  {
   "cell_type": "code",
   "execution_count": null,
   "id": "4ed5eecb",
   "metadata": {},
   "outputs": [],
   "source": [
    "def predictions_tuning(X_train, y_train, X_test, k_list):\n",
    "    for k in k_list:\n",
    "        y_pred = knn(X_train, y_train, X_test, k)\n",
    "        print(f'Точность алгоритма kNN при k = {k}: {accuracy(y_pred, y_test):.3f}')\n",
    "        y_pred = knn_weighted(X_train, y_train, X_test, k)\n",
    "        print(f'Точность алгоритма kNN weighted при k = {k}: {accuracy(y_pred, y_test):.3f}\\n')"
   ]
  },
  {
   "cell_type": "code",
   "execution_count": null,
   "id": "2b079819",
   "metadata": {},
   "outputs": [],
   "source": [
    "k_list = [i for i in range(1, 16) if i%2!=0]\n",
    "predictions_tuning(X_train, y_train, X_test, k_list)"
   ]
  },
  {
   "cell_type": "code",
   "execution_count": null,
   "id": "87b96eea",
   "metadata": {},
   "outputs": [],
   "source": [
    "Точность алгоритма kNN при k = 1: 0.667\n",
    "Точность алгоритма kNN weighted при k = 1: 0.667\n",
    "\n",
    "Точность алгоритма kNN при k = 3: 0.733\n",
    "Точность алгоритма kNN weighted при k = 3: 0.667\n",
    "\n",
    "Точность алгоритма kNN при k = 5: 0.867\n",
    "Точность алгоритма kNN weighted при k = 5: 0.733\n",
    "\n",
    "Точность алгоритма kNN при k = 7: 0.800\n",
    "Точность алгоритма kNN weighted при k = 7: 0.733\n",
    "\n",
    "Точность алгоритма kNN при k = 9: 0.867\n",
    "Точность алгоритма kNN weighted при k = 9: 0.767\n",
    "\n",
    "Точность алгоритма kNN при k = 11: 0.833\n",
    "Точность алгоритма kNN weighted при k = 11: 0.767\n",
    "\n",
    "Точность алгоритма kNN при k = 13: 0.833\n",
    "Точность алгоритма kNN weighted при k = 13: 0.767\n",
    "\n",
    "Точность алгоритма kNN при k = 15: 0.833\n",
    "Точность алгоритма kNN weighted при k = 15: 0.767\n",
    "\n",
    "Вывод: в этом кейсе взвешенный kNN показал accuracy ниже, чем базовый алгоритм kNN, который просто считает число соседей."
   ]
  }
 ],
 "metadata": {
  "kernelspec": {
   "display_name": "Python 3",
   "language": "python",
   "name": "python3"
  },
  "language_info": {
   "codemirror_mode": {
    "name": "ipython",
    "version": 3
   },
   "file_extension": ".py",
   "mimetype": "text/x-python",
   "name": "python",
   "nbconvert_exporter": "python",
   "pygments_lexer": "ipython3",
   "version": "3.8.8"
  }
 },
 "nbformat": 4,
 "nbformat_minor": 5
}
