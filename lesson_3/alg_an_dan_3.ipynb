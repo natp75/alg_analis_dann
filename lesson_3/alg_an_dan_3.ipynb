{
 "cells": [
  {
   "cell_type": "code",
   "execution_count": 6,
   "id": "8a719e2e",
   "metadata": {
    "scrolled": true
   },
   "outputs": [],
   "source": [
    "# Определите AUC_ROC и AUC_PR для модели логистической регрессии на тестовой выборке. \n",
    "#Используйте реализацию модели в виде класса и функцию confusion, чтобы рассчитать TPR, FPR, precision, \n",
    "#recal для различных порогов вероятности.\n",
    "\n",
    "import numpy as np\n",
    "from numpy import trapz\n",
    "\n",
    "from sklearn import datasets\n",
    "from sklearn.metrics import classification_report, confusion_matrix\n",
    "from sklearn.metrics import f1_score, precision_score, recall_score, auc, roc_auc_score\n",
    "from sklearn.metrics import roc_curve, precision_recall_curve\n",
    "\n",
    "\n",
    "import matplotlib\n",
    "import matplotlib.pyplot as plt\n",
    "from matplotlib.colors import ListedColormap\n",
    "\n",
    "%matplotlib inline\n",
    "%config InlineBackend.figure_format = 'svg'"
   ]
  },
  {
   "cell_type": "code",
   "execution_count": 9,
   "id": "643d1e43",
   "metadata": {},
   "outputs": [],
   "source": [
    "# Классы и функции\n",
    "def all_metrics_sklearn(y_true, y_predicted):\n",
    "  print(f'Confusion matrix 0.5:\\n{confusion_matrix(y_true, y_predicted)}\\n')\n",
    "  print(f'Precision_score: {precision_score(y_true, y_predicted)}\\n')\n",
    "  print(f'Recall_score: {recall_score(y_true, y_predicted)}\\n')\n",
    "  print(f'F1_score: {f1_score(y_true, y_predicted)}\\n')\n",
    "  print(f'ROC_AUC_score: {roc_auc_score(y_true, y_predicted)}')\n",
    "def confusion(predicted, actual):\n",
    "    TP=np.sum(np.logical_and(predicted==1, actual==1))\n",
    "    FP=np.sum(np.logical_and(predicted==1, actual==0))\n",
    "    FN=np.sum(np.logical_and(predicted==0, actual==1))\n",
    "    TN=np.sum(np.logical_and(predicted==0, actual==0))\n",
    "    return {'TP': TP, 'FP': FP, 'FN': FN, 'TN': TN}\n",
    "class logistic:\n",
    "    @staticmethod\n",
    "    def sigmoid(x):\n",
    "        return 1 / (1 + np.exp(-x))\n",
    "    @classmethod\n",
    "    def log_loss(cls, w, X, y):\n",
    "        m = X.shape[0]\n",
    "        y=y[:, np.newaxis]\n",
    "        # используем функцию сигмоиды, написанную ранее\n",
    "        A = cls.sigmoid(np.dot(X, w.T))\n",
    "        loss = -1.0 / m * np.sum(y * np.log(A) + (1 - y) * np.log(1 - A))\n",
    "        grad = 1.0 / m * np.dot((A - y).T, X)\n",
    "        return loss, grad\n",
    "    @classmethod\n",
    "    def optimize(cls, w, X, y, n_iterations, eta):\n",
    "        #     потери будем записывать в список для отображения в виде графика\n",
    "        losses = []\n",
    "        for i in range(n_iterations):        \n",
    "            loss, grad = cls.log_loss(w, X, y)\n",
    "            w = w - eta * grad\n",
    "            losses.append(loss)\n",
    "        return w, losses\n",
    "    def __init__(self, n_iterations=1000, eta=0.05):\n",
    "        self.n_iterations=1000\n",
    "        self.eta=0.05\n",
    "    def fit(self, X, y):\n",
    "        w0 = np.zeros((1, X.shape[1]))\n",
    "        self.w, self.losses = self.optimize(w0, X, y, self.n_iterations, self.eta)\n",
    "    def predict_proba(self, X):\n",
    "        y_predicted = np.zeros(X.shape[0])    \n",
    "        return self.sigmoid(np.dot(X, self.w.T)).flatten()\n",
    "    def predict(self, X, thr=0.5):\n",
    "        proba=self.predict_proba(X)\n",
    "        y_predicted = np.zeros(proba.shape, dtype=bool) \n",
    "        y_predicted[proba>thr]=1\n",
    "        y_predicted[proba<=thr]=0\n",
    "        return y_predicted"
   ]
  },
  {
   "cell_type": "code",
   "execution_count": null,
   "id": "269eb32d",
   "metadata": {},
   "outputs": [],
   "source": []
  }
 ],
 "metadata": {
  "kernelspec": {
   "display_name": "Python 3",
   "language": "python",
   "name": "python3"
  },
  "language_info": {
   "codemirror_mode": {
    "name": "ipython",
    "version": 3
   },
   "file_extension": ".py",
   "mimetype": "text/x-python",
   "name": "python",
   "nbconvert_exporter": "python",
   "pygments_lexer": "ipython3",
   "version": "3.8.8"
  }
 },
 "nbformat": 4,
 "nbformat_minor": 5
}
