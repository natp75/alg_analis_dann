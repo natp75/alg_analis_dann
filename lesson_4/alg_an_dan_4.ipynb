{
 "cells": [
  {
   "cell_type": "code",
   "execution_count": null,
   "id": "aae51ab9",
   "metadata": {},
   "outputs": [],
   "source": [
    "# реализовать аналогичное изученному дерева решений, использующего энтропию Шенонна в качестве критерия информативности и \n",
    "#сравнить точность(accuracy, balanced_accuracy) достигаемую\n",
    "#на используемых синтетических данных с точностью разобранной на уроке реализации\n",
    "\n",
    "def shannon(labels):\n",
    "    #  подсчет количества объектов разных классов\n",
    "    classes = {}\n",
    "    for label in labels:\n",
    "        if label not in classes:\n",
    "            classes[label] = 0\n",
    "        classes[label] += 1\n",
    "\n",
    "    #  расчет критерия\n",
    "    impurity = 0\n",
    "    for label in classes:\n",
    "        p = classes[label] / len(labels)\n",
    "        impurity += p * np.log2(p)\n",
    "        \n",
    "    return -1 * impurity"
   ]
  }
 ],
 "metadata": {
  "kernelspec": {
   "display_name": "Python 3",
   "language": "python",
   "name": "python3"
  },
  "language_info": {
   "codemirror_mode": {
    "name": "ipython",
    "version": 3
   },
   "file_extension": ".py",
   "mimetype": "text/x-python",
   "name": "python",
   "nbconvert_exporter": "python",
   "pygments_lexer": "ipython3",
   "version": "3.8.8"
  }
 },
 "nbformat": 4,
 "nbformat_minor": 5
}
