{
 "cells": [
  {
   "cell_type": "code",
   "execution_count": 2,
   "id": "51f0433a",
   "metadata": {},
   "outputs": [],
   "source": [
    "#Реализовать адаптивный бустинг использующий Логистическую Регрессию и меру ошибок LogLoss. Сравнить с точностью адаптивного бустинга на деревьях решений. Для сбора предсказаний можно использовать ту же функцию predict что и для бустинга на деревьях\n",
    "#Примечания: в LogLoss необходимо передавать не предсказания полученные с помощью clf.predict(...), а вероятность, полученную с помощью clf.predict_proba(...)[:, 1]\n",
    "\n",
    "from sklearn.tree import DecisionTreeClassifier\n",
    "from sklearn.linear_model import LogisticRegression\n",
    "from sklearn.datasets import load_breast_cancer\n",
    "import matplotlib.pyplot as plt\n",
    "\n",
    "from sklearn import model_selection\n",
    "import numpy as np\n",
    "import warnings\n",
    "\n",
    "%matplotlib inline\n",
    "%config InlineBackend.figure_format = 'svg'\n",
    "\n",
    "warnings.filterwarnings('ignore')"
   ]
  },
  {
   "cell_type": "code",
   "execution_count": 3,
   "id": "61b2970d",
   "metadata": {},
   "outputs": [],
   "source": [
    "def get_error(pred, y):\n",
    "    return np.sum((pred != y).astype(int)) / len(y)"
   ]
  },
  {
   "cell_type": "code",
   "execution_count": 4,
   "id": "aeb6485f",
   "metadata": {},
   "outputs": [],
   "source": [
    "# реализация LogLoss\n",
    "def log_loss(pred, y): return -1.0 * np.sum(y * np.log(pred) + (1 - y) * np.log(1 - pred)) / len(y)"
   ]
  },
  {
   "cell_type": "code",
   "execution_count": 5,
   "id": "80c10734",
   "metadata": {},
   "outputs": [],
   "source": [
    "def adaboost(X, y, N):\n",
    "\n",
    "    # Размер выборки\n",
    "    n_objects = len(X)\n",
    "\n",
    "    # Запишем количество классов в переменную\n",
    "    n_classes = len(np.unique((y)))\n",
    "\n",
    "    # Начальные веса деревьев\n",
    "    w = np.ones(n_objects) / n_objects\n",
    "\n",
    "    # Деревья с весами будем записывать в список\n",
    "    models = []\n",
    "\n",
    "    for n in range(N):\n",
    "        # Зададим дерево и обучим его\n",
    "        clf = DecisionTreeClassifier(max_depth=1)\n",
    "        clf.fit(X, y, w)\n",
    "\n",
    "        predictions = clf.predict(X)\n",
    "        e = get_error(predictions, y)\n",
    "        # отбросим дерево, если его ошибка больше 0.5\n",
    "        # Запишем условие в общем виде (применимо к небинарным классификаторам)\n",
    "        if e >= 1 - 1/n_classes: \n",
    "            break\n",
    "\n",
    "        # Вычислим вес для дерева\n",
    "        alpha = 0.5 * np.log((1 - e) / e)\n",
    "\n",
    "        # Найдем индексы правильно классифицированных элементов\n",
    "        match = predictions == y\n",
    "\n",
    "        # Увеличим веса для неправильно классифицированных элементов\n",
    "        w[~match] *= np.exp(alpha)\n",
    "\n",
    "        # Нормализуем веса\n",
    "        w /= w.sum()\n",
    "\n",
    "        # Добавим дерево с весом в список\n",
    "        models.append((alpha, clf))\n",
    "    \n",
    "    return models"
   ]
  },
  {
   "cell_type": "code",
   "execution_count": null,
   "id": "6242f039",
   "metadata": {},
   "outputs": [],
   "source": [
    "def adaboost_logreg(X, y, N):\n",
    "\n",
    "    # Размер выборки\n",
    "    n_objects = len(X)\n",
    "\n",
    "    # Запишем количество классов в переменную\n",
    "    n_classes = len(np.unique((y)))\n",
    "\n",
    "    # Начальные веса деревьев\n",
    "    w = np.ones(n_objects) / n_objects\n",
    "\n",
    "    # Деревья с весами будем записывать в список\n",
    "    models = []\n",
    "\n",
    "    for n in range(N):\n",
    "        # Зададим дерево и обучим его\n",
    "        lr = LogisticRegression(solver=\"liblinear\", random_state=21)\n",
    "        lr.fit(X, y, w)\n",
    "\n",
    "        predictions = lr.predict(X)\n",
    "        prediction_probs = lr.predict_proba(X)[:, 1]\n",
    "        for i in range(len(prediction_probs)):\n",
    "            if prediction_probs[i] == 0:\n",
    "                prediction_probs[i] += 1e-14\n",
    "\n",
    "        e = log_loss(prediction_probs, y)\n",
    "        # отбросим дерево, если его ошибка больше 0.5\n",
    "        # Запишем условие в общем виде (применимо к небинарным классификаторам)\n",
    "        if e >= 1 - 1/n_classes: \n",
    "            break\n",
    "\n",
    "        # Вычислим вес для дерева\n",
    "        alpha = 0.5 * np.log((1 - e) / e)\n",
    "\n",
    "        # Найдем индексы правильно классифицированных элементов\n",
    "        match = predictions == y\n",
    "\n",
    "        # Увеличим веса для неправильно классифицированных элементов\n",
    "        w[~match] *= np.exp(alpha)\n",
    "\n",
    "        # Нормализуем веса\n",
    "        w /= w.sum()\n",
    "\n",
    "        # Добавим дерево с весом в список\n",
    "        models.append((alpha, lr))\n",
    "         return models"
   ]
  },
  {
   "cell_type": "code",
   "execution_count": null,
   "id": "baef0f1f",
   "metadata": {},
   "outputs": [],
   "source": [
    "X, y = load_breast_cancer(return_X_y=True)\n",
    "X_train, X_test, y_train, y_test = model_selection.train_test_split(X, y, test_size=0.25)"
   ]
  },
  {
   "cell_type": "code",
   "execution_count": null,
   "id": "49aca476",
   "metadata": {},
   "outputs": [],
   "source": [
    "N = 50\n",
    "\n",
    "models = adaboost(X_train, y_train, N)\n",
    "models_logreg = adaboost_logreg(X_train, y_train, N)"
   ]
  },
  {
   "cell_type": "code",
   "execution_count": null,
   "id": "69865c62",
   "metadata": {},
   "outputs": [],
   "source": [
    "def predict(X, models):\n",
    "    \n",
    "    n_classes = 2\n",
    "    n_objects = len(X)\n",
    "    \n",
    "    # вначале обозначим предсказание нулевым массивом\n",
    "    y_pred = np.zeros((n_objects, n_classes))\n",
    "    \n",
    "    for alpha, clf in models:\n",
    "        prediction = clf.predict(X)\n",
    "        # Для каждого предсказания будем прибавлять alpha к\n",
    "        # элементу с индексом предсказанного класса\n",
    "        y_pred[range(n_objects), prediction] += alpha\n",
    "    \n",
    "    # выберем индексы с максимальными суммарными весами -\n",
    "    # получим предсказанные алгоритмом классы\n",
    "    y_pred = np.argmax(y_pred, axis=1)\n",
    "    \n",
    "    return y_pred"
   ]
  },
  {
   "cell_type": "code",
   "execution_count": null,
   "id": "74b8acbd",
   "metadata": {},
   "outputs": [],
   "source": [
    "print(f'Точность алгоритма adaboost на обучающей выборке: {(1 - get_error(predict(X_train, models), y_train)) * 100:.3f}')\n",
    "print(f'Точность алгоритма adaboost на тестовой выборке: {(1 - get_error(predict(X_test, models), y_test)) * 100:.3f}')"
   ]
  },
  {
   "cell_type": "code",
   "execution_count": null,
   "id": "4875db71",
   "metadata": {},
   "outputs": [],
   "source": [
    "Точность алгоритма adaboost на обучающей выборке: 98.592\n",
    "Точность алгоритма adaboost на тестовой выборке: 93.007"
   ]
  },
  {
   "cell_type": "code",
   "execution_count": null,
   "id": "fcf5c30c",
   "metadata": {},
   "outputs": [],
   "source": [
    "train_errors = []\n",
    "test_errors = []\n",
    "\n",
    "for n in range(1, 31):\n",
    "    mods = adaboost(X_train, y_train, n)\n",
    "    train_errors.append(get_error(predict(X_train, mods), y_train))\n",
    "    test_errors.append(get_error(predict(X_test, mods), y_test))\n",
    "x = list(range(1, 31))"
   ]
  },
  {
   "cell_type": "code",
   "execution_count": null,
   "id": "1c90f7b6",
   "metadata": {},
   "outputs": [],
   "source": [
    "print(f'Точность алгоритма adaboost_logreg на обучающей выборке: {(1 - get_error(predict(X_train, models_logreg), y_train)) * 100:.3f}')\n",
    "print(f'Точность алгоритма adaboost_logreg на тестовой выборке: {(1 - get_error(predict(X_test, models_logreg), y_test)) * 100:.3f}')\n",
    "Точность алгоритма adaboost_logreg на обучающей выборке: 93.897\n",
    "Точность алгоритма adaboost_logreg на тестовой выборке: 94.406"
   ]
  },
  {
   "cell_type": "code",
   "execution_count": null,
   "id": "b23978d0",
   "metadata": {},
   "outputs": [],
   "source": [
    "train_errors = []\n",
    "test_errors = []\n",
    "\n",
    "for n in range(1, 31):\n",
    "    mods = adaboost_logreg(X_train, y_train, n)\n",
    "    train_errors.append(get_error(predict(X_train, mods), y_train))\n",
    "    test_errors.append(get_error(predict(X_test, mods), y_test))\n",
    "x = list(range(1, 31))"
   ]
  }
 ],
 "metadata": {
  "kernelspec": {
   "display_name": "Python 3",
   "language": "python",
   "name": "python3"
  },
  "language_info": {
   "codemirror_mode": {
    "name": "ipython",
    "version": 3
   },
   "file_extension": ".py",
   "mimetype": "text/x-python",
   "name": "python",
   "nbconvert_exporter": "python",
   "pygments_lexer": "ipython3",
   "version": "3.8.8"
  }
 },
 "nbformat": 4,
 "nbformat_minor": 5
}
